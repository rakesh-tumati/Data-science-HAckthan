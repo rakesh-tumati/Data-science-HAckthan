{
 "cells": [
  {
   "cell_type": "code",
   "execution_count": 5,
   "id": "27391498-08ae-4d9a-9447-ebcfbfa99615",
   "metadata": {},
   "outputs": [
    {
     "name": "stdout",
     "output_type": "stream",
     "text": [
      "Unique numbers in the column: 610\n"
     ]
    }
   ],
   "source": [
    "import pandas as pd\n",
    "\n",
    "# Create a DataFrame (you can replace this with your own data)\n",
    "data =pd.read_csv(\"ratings.csv\")\n",
    "df = pd.DataFrame(data)\n",
    "\n",
    "# Get unique values from the specified column\n",
    "unique_values = df['userId'].unique()\n",
    "\n",
    "# Print the unique values\n",
    "print(\"Unique numbers in the column:\", len(unique_values))\n"
   ]
  },
  {
   "cell_type": "code",
   "execution_count": null,
   "id": "94399717-730e-4fa3-bb71-f4093ee0e604",
   "metadata": {},
   "outputs": [],
   "source": [
    "import pandas as pd\n",
    "\n",
    "# Assuming you have a DataFrame named 'movies' with columns 'Movie_Title' and 'User_Ratings'\n",
    "# Replace this with your actual dataset\n",
    "\n",
    "# Example DataFrame\n",
    "movies = pd.DataFrame(data)\n",
    "\n",
    "# Find the movie with the maximum number of user ratings\n",
    "max_ratings_movie = movies.loc[movies['userId'].idxmax()]\n",
    "\n",
    "# Print the result\n",
    "print(\"Movie with the maximum user ratings:\")\n",
    "print(max_ratings_movie)\n"
   ]
  },
  {
   "cell_type": "code",
   "execution_count": 9,
   "id": "9479ce4a-8a14-4b54-90ae-a6e39f0fd219",
   "metadata": {},
   "outputs": [
    {
     "name": "stdout",
     "output_type": "stream",
     "text": [
      "Movie with the maximum number of user ratings:\n",
      "userId               1.0\n",
      "movieId            356.0\n",
      "rating               4.0\n",
      "timestamp    964980962.0\n",
      "Name: 20, dtype: float64\n"
     ]
    }
   ],
   "source": [
    "import pandas as pd\n",
    "\n",
    "# Assuming you have a DataFrame named 'ratings' with columns 'movieId' and 'rating'\n",
    "# Replace this with your actual dataset\n",
    "\n",
    "# Example DataFrame\n",
    "data = pd.read_csv(\"ratings.csv\")\n",
    "ratings = pd.DataFrame(data)\n",
    "\n",
    "# Group by movieId and count the number of ratings for each movie\n",
    "movie_ratings_count = ratings.groupby('movieId')['rating'].count()\n",
    "\n",
    "# Find the movie with the maximum number of ratings\n",
    "max_ratings_movie_id = movie_ratings_count.idxmax()\n",
    "\n",
    "# Find the corresponding movie information\n",
    "max_ratings_movie_info = ratings[ratings['movieId'] == max_ratings_movie_id].iloc[0]\n",
    "\n",
    "# Print the result\n",
    "print(\"Movie with the maximum number of user ratings:\")\n",
    "print(max_ratings_movie_info)\n"
   ]
  },
  {
   "cell_type": "code",
   "execution_count": 16,
   "id": "fcf09894-62ab-4815-9068-137e06237e0e",
   "metadata": {},
   "outputs": [
    {
     "name": "stdout",
     "output_type": "stream",
     "text": [
      "Average user rating for 'Terminator 2: Judgment Day (1991)': 3.0\n"
     ]
    }
   ],
   "source": [
    "import pandas as pd\n",
    "\n",
    "# Assuming you have a DataFrame named 'ratings' with columns 'userId', 'movieId', 'rating'\n",
    "# Replace this with your actual dataset\n",
    "\n",
    "# Example DataFrame\n",
    "data = pd.read_csv(\"ratings.csv\")\n",
    "ratings = pd.DataFrame(data)\n",
    "\n",
    "# Find the movieId for \"Terminator 2: Judgment Day (1991)\"\n",
    "terminator_movie_id = 201  # Replace with your actual movieId for Terminator 2\n",
    "\n",
    "# Calculate the average rating for the movie\n",
    "average_rating = ratings[ratings['movieId'] == terminator_movie_id]['rating'].mean()\n",
    "\n",
    "# Print the result\n",
    "print(\"Average user rating for 'Terminator 2: Judgment Day (1991)':\", average_rating)\n"
   ]
  },
  {
   "cell_type": "code",
   "execution_count": 17,
   "id": "6c7a568b-6d7f-404a-a9da-00f07d04c52d",
   "metadata": {},
   "outputs": [
    {
     "data": {
      "image/png": "[encoded data removed]",
      "text/plain": [
       "<Figure size 800x600 with 1 Axes>"
      ]
     },
     "metadata": {},
     "output_type": "display_data"
    }
   ],
   "source": [
    "import pandas as pd\n",
    "import matplotlib.pyplot as plt\n",
    "\n",
    "# Assuming you have a DataFrame named 'ratings' with columns 'userId', 'movieId', 'rating'\n",
    "# Replace this with your actual dataset\n",
    "\n",
    "# Example DataFrame\n",
    "data = pd.read_csv(\"ratings.csv\")\n",
    "ratings = pd.DataFrame(data)\n",
    "\n",
    "# Find the movieId for \"Fight Club (1999)\"\n",
    "fight_club_movie_id = 301  # Replace with your actual movieId for Fight Club\n",
    "\n",
    "# Select ratings for \"Fight Club (1999)\"\n",
    "fight_club_ratings = ratings[ratings['movieId'] == fight_club_movie_id]['rating']\n",
    "\n",
    "# Plot the histogram\n",
    "plt.figure(figsize=(8, 6))\n",
    "plt.hist(fight_club_ratings, bins=[1, 2, 3, 4, 5, 6], edgecolor='black')\n",
    "plt.title('User Ratings Distribution for \"Fight Club (1999)\"')\n",
    "plt.xlabel('Rating')\n",
    "plt.ylabel('Number of Users')\n",
    "plt.grid(axis='y', linestyle='--', alpha=0.7)\n",
    "plt.show()\n"
   ]
  },
  {
   "cell_type": "code",
   "execution_count": 18,
   "id": "109882b5-020c-470e-9317-5e822341c8bf",
   "metadata": {},
   "outputs": [
    {
     "name": "stdout",
     "output_type": "stream",
     "text": [
      "Most popular movie based on average user ratings:\n",
      "Title: Lamerica (1994)\n",
      "Average Rating: 5.00\n"
     ]
    }
   ],
   "source": [
    "import pandas as pd\n",
    "\n",
    "# Assuming you have DataFrames named 'ratings' and 'movies' with appropriate columns\n",
    "# Replace this with your actual dataset\n",
    "\n",
    "# Example DataFrames\n",
    "ratings_data = pd.read_csv(\"ratings.csv\")\n",
    "ratings = pd.DataFrame(ratings_data)\n",
    "\n",
    "movies_data = pd.read_csv(\"movies.csv\")\n",
    "\n",
    "movies = pd.DataFrame(movies_data)\n",
    "\n",
    "# Calculate the average rating for each movie\n",
    "average_ratings = ratings.groupby('movieId')['rating'].mean()\n",
    "\n",
    "# Find the movie with the highest average rating\n",
    "most_popular_movie_id = average_ratings.idxmax()\n",
    "\n",
    "# Get the title and average rating of the most popular movie\n",
    "most_popular_movie_info = movies[movies['movieId'] == most_popular_movie_id].iloc[0]\n",
    "most_popular_movie_avg_rating = average_ratings.loc[most_popular_movie_id]\n",
    "\n",
    "# Print the result\n",
    "print(\"Most popular movie based on average user ratings:\")\n",
    "print(f\"Title: {most_popular_movie_info['title']}\")\n",
    "print(f\"Average Rating: {most_popular_movie_avg_rating:.2f}\")\n"
   ]
  },
  {
   "cell_type": "code",
   "execution_count": 19,
   "id": "a127d42f-3d30-4d7f-a1ee-2647bc22c172",
   "metadata": {},
   "outputs": [
    {
     "name": "stdout",
     "output_type": "stream",
     "text": [
      "Most popular movie based on average user ratings:\n",
      "Title: Lamerica (1994)\n",
      "Average Rating: 5.00\n"
     ]
    }
   ],
   "source": [
    "import pandas as pd\n",
    "\n",
    "# Assuming you have DataFrames named 'ratings' and 'movies' with appropriate columns\n",
    "# Replace this with your actual dataset\n",
    "\n",
    "# Example DataFrames\n",
    "\n",
    "ratings = pd.DataFrame(ratings_data)\n",
    "\n",
    "movies = pd.DataFrame(movies_data)\n",
    "\n",
    "# Calculate the average rating for each movie\n",
    "average_ratings = ratings.groupby('movieId')['rating'].mean()\n",
    "\n",
    "# Find the movie with the highest average rating\n",
    "most_popular_movie_id = average_ratings.idxmax()\n",
    "\n",
    "# Get the title and average rating of the most popular movie\n",
    "most_popular_movie_info = movies[movies['movieId'] == most_popular_movie_id].iloc[0]\n",
    "most_popular_movie_avg_rating = average_ratings.loc[most_popular_movie_id]\n",
    "\n",
    "# Print the result\n",
    "print(\"Most popular movie based on average user ratings:\")\n",
    "print(f\"Title: {most_popular_movie_info['title']}\")\n",
    "print(f\"Average Rating: {most_popular_movie_avg_rating:.2f}\")\n"
   ]
  },
  {
   "cell_type": "code",
   "execution_count": 20,
   "id": "b0f10e16-97d2-4c5d-a23f-fa8e49ca5aea",
   "metadata": {},
   "outputs": [
    {
     "name": "stdout",
     "output_type": "stream",
     "text": [
      "Top 5 popular movies based on number of user ratings:\n",
      "['Pulp Fiction (1994)', 'Shawshank Redemption, The (1994)', 'Forrest Gump (1994)', 'Silence of the Lambs, The (1991)', 'Matrix, The (1999)']\n"
     ]
    }
   ],
   "source": [
    "import pandas as pd\n",
    "\n",
    "# Assuming you have DataFrames named 'ratings' and 'movies' with appropriate columns\n",
    "# Replace this with your actual dataset\n",
    "\n",
    "# Example DataFrames\n",
    "\n",
    "\n",
    "movies = pd.DataFrame(movies_data)\n",
    "\n",
    "# Find the top 5 popular movies based on the number of user ratings\n",
    "top_movies = ratings['movieId'].value_counts().head(5).index\n",
    "\n",
    "# Select the movie titles for the top 5 popular movies\n",
    "top_movies_titles = movies[movies['movieId'].isin(top_movies)]['title'].tolist()\n",
    "\n",
    "# Print the result\n",
    "print(\"Top 5 popular movies based on number of user ratings:\")\n",
    "print(top_movies_titles)\n"
   ]
  },
  {
   "cell_type": "code",
   "execution_count": 24,
   "id": "cd56724f-4ab7-45c0-9ef3-8355cbede6ca",
   "metadata": {},
   "outputs": [
    {
     "name": "stdout",
     "output_type": "stream",
     "text": [
      "Third most popular Sci-Fi movie based on the number of user ratings:\n",
      "Being Human (1993)\n"
     ]
    }
   ],
   "source": [
    "import pandas as pd\n",
    "\n",
    "# Assuming you have DataFrames named 'ratings' and 'movies' with appropriate columns\n",
    "# Replace this with your actual dataset\n",
    "\n",
    "# Example DataFrames\n",
    "\n",
    "\n",
    "# Filter Sci-Fi movies\n",
    "sci_fi_movies = movies[movies['genres'].str.contains('Sci-Fi')]\n",
    "\n",
    "# Find the third most popular Sci-Fi movie based on the number of user ratings\n",
    "third_most_popular_sci_fi = sci_fi_movies['movieId'].map(ratings['movieId'].value_counts()).sort_values(ascending=False).index[2]\n",
    "\n",
    "# Get the title of the third most popular Sci-Fi movie\n",
    "third_most_popular_sci_fi_title = movies[movies['movieId'] == third_most_popular_sci_fi]['title'].iloc[0]\n",
    "\n",
    "# Print the result\n",
    "print(\"Third most popular Sci-Fi movie based on the number of user ratings:\")\n",
    "print(third_most_popular_sci_fi_title)\n"
   ]
  },
  {
   "cell_type": "code",
   "execution_count": 26,
   "id": "10cab1da-3644-4e97-b9e0-48ed5c35127d",
   "metadata": {},
   "outputs": [
    {
     "name": "stdout",
     "output_type": "stream",
     "text": [
      "MovieId of the movie with the highest IMDB rating: 193587\n"
     ]
    }
   ],
   "source": [
    "import pandas as pd\n",
    "\n",
    "# Assuming you have a DataFrame named 'movies' with columns 'movieId', 'title', 'imdbRating'\n",
    "# Replace this with your actual dataset\n",
    "\n",
    "# Example DataFrame\n",
    "movies_data =pd.read_csv(\"links.csv\")\n",
    "movies = pd.DataFrame(movies_data)\n",
    "\n",
    "# Find the movieId with the highest IMDB rating\n",
    "highest_imdb_rating_movie_id = movies.loc[movies['imdbId'].idxmax(), 'movieId']\n",
    "\n",
    "# Print the result\n",
    "print(\"MovieId of the movie with the highest IMDB rating:\", highest_imdb_rating_movie_id)\n"
   ]
  },
  {
   "cell_type": "code",
   "execution_count": 29,
   "id": "557701de-dd17-49ad-81fe-5868750ca07d",
   "metadata": {},
   "outputs": [
    {
     "name": "stdout",
     "output_type": "stream",
     "text": [
      "Third most popular Sci-Fi movie based on the number of user ratings:\n",
      "MovieId: 480\n",
      "Title: Jurassic Park (1993)\n"
     ]
    }
   ],
   "source": [
    "import pandas as pd\n",
    "\n",
    "# Assuming you have DataFrames named 'ratings' and 'movies' with appropriate columns\n",
    "# Replace this with your actual dataset\n",
    "\n",
    "# Example DataFrames\n",
    "ratings_data = pd.read_csv(\"ratings.csv\")\n",
    "ratings = pd.DataFrame(ratings_data)\n",
    "\n",
    "movies_data = pd.read_csv(\"movies.csv\")\n",
    "movies = pd.DataFrame(movies_data)\n",
    "\n",
    "# Filter for Sci-Fi movies\n",
    "sci_fi_movies = movies[movies['genres'].str.contains('Sci-Fi')]\n",
    "\n",
    "# Check if there are Sci-Fi movies in the dataset\n",
    "if not sci_fi_movies.empty:\n",
    "    # Merge ratings and sci-fi movies data\n",
    "    sci_fi_ratings = pd.merge(ratings, sci_fi_movies, on='movieId')\n",
    "    \n",
    "    # Find the third most popular Sci-Fi movie based on the number of user ratings\n",
    "    third_most_popular_sci_fi = sci_fi_ratings['movieId'].value_counts().index[2]\n",
    "    \n",
    "    # Get the title of the third most popular Sci-Fi movie\n",
    "    third_most_popular_sci_fi_title = movies[movies['movieId'] == third_most_popular_sci_fi]['title'].iloc[0]\n",
    "    \n",
    "    # Print the result\n",
    "    print(\"Third most popular Sci-Fi movie based on the number of user ratings:\")\n",
    "    print(f\"MovieId: {third_most_popular_sci_fi}\")\n",
    "    print(f\"Title: {third_most_popular_sci_fi_title}\")\n",
    "else:\n",
    "    print(\"No Sci-Fi movies found in the dataset.\")\n"
   ]
  },
  {
   "cell_type": "code",
   "execution_count": 30,
   "id": "37eb2d41-beab-4052-b4e6-563fa68e4912",
   "metadata": {},
   "outputs": [
    {
     "name": "stdout",
     "output_type": "stream",
     "text": [
      "List of movies that contain 'sci-fi' in the genres:\n",
      "      movieId                                              title\n",
      "23         24                                      Powder (1995)\n",
      "28         29  City of Lost Children, The (Cité des enfants p...\n",
      "31         32          Twelve Monkeys (a.k.a. 12 Monkeys) (1995)\n",
      "59         66          Lawnmower Man 2: Beyond Cyberspace (1996)\n",
      "68         76                                   Screamers (1995)\n",
      "...       ...                                                ...\n",
      "9713   188301                        Ant-Man and the Wasp (2018)\n",
      "9722   189547                                Iron Soldier (2010)\n",
      "9724   190183                           The Darkest Minds (2018)\n",
      "9731   191005                                     Gintama (2017)\n",
      "9732   193565                          Gintama: The Movie (2010)\n",
      "\n",
      "[980 rows x 2 columns]\n"
     ]
    }
   ],
   "source": [
    "import pandas as pd\n",
    "\n",
    "# Load the 'movies.csv' dataset into a DataFrame\n",
    "movies = pd.read_csv('movies.csv')\n",
    "\n",
    "# Filter for movies with 'sci-fi' in the genres\n",
    "sci_fi_movies = movies[movies['genres'].str.lower().str.contains('sci-fi', na=False)]\n",
    "\n",
    "# Display the list of movies that contain \"sci-fi\" in the genres\n",
    "print(\"List of movies that contain 'sci-fi' in the genres:\")\n",
    "print(sci_fi_movies[['movieId', 'title']])\n"
   ]
  },
  {
   "cell_type": "code",
   "execution_count": 31,
   "id": "58c6e69d-10c3-4a45-95ad-af6a13ddc65d",
   "metadata": {},
   "outputs": [
    {
     "name": "stdout",
     "output_type": "stream",
     "text": [
      "Top 5 movies with the highest average ratings:\n",
      "     movieId                                              title  \\\n",
      "48        53                                    Lamerica (1994)   \n",
      "87        99               Heidi Fleiss: Hollywood Madam (1995)   \n",
      "121      148                   Awfully Big Adventure, An (1995)   \n",
      "405      467                             Live Nude Girls (1995)   \n",
      "432      495  In the Realm of the Senses (Ai no corrida) (1976)   \n",
      "\n",
      "     average_rating  \n",
      "48              5.0  \n",
      "87              5.0  \n",
      "121             5.0  \n",
      "405             5.0  \n",
      "432             5.0  \n"
     ]
    }
   ],
   "source": [
    "import pandas as pd\n",
    "\n",
    "# Load 'movies.csv' and 'ratings.csv' datasets into DataFrames\n",
    "movies = pd.read_csv('movies.csv')\n",
    "ratings = pd.read_csv('ratings.csv')\n",
    "\n",
    "# Merge 'movies' and 'ratings' based on 'movieId'\n",
    "merged_data = pd.merge(movies, ratings, on='movieId')\n",
    "\n",
    "# Group by 'movieId' and calculate the average rating for each movie\n",
    "average_ratings = merged_data.groupby('movieId')['rating'].mean()\n",
    "\n",
    "# Get the top 5 movies with the highest average ratings\n",
    "top_movies = average_ratings.nlargest(5)\n",
    "\n",
    "# Display the top 5 movies\n",
    "top_movies_info = movies[movies['movieId'].isin(top_movies.index)][['movieId', 'title']]\n",
    "top_movies_info['average_rating'] = top_movies.values\n",
    "print(\"Top 5 movies with the highest average ratings:\")\n",
    "print(top_movies_info)\n",
    "\n"
   ]
  },
  {
   "cell_type": "code",
   "execution_count": null,
   "id": "ab87e15d-c37d-41e9-ab9c-2fc4950b62b3",
   "metadata": {},
   "outputs": [],
   "source": []
  }
 ],
 "metadata": {
  "kernelspec": {
   "display_name": "Python 3 (ipykernel)",
   "language": "python",
   "name": "python3"
  },
  "language_info": {
   "codemirror_mode": {
    "name": "ipython",
    "version": 3
   },
   "file_extension": ".py",
   "mimetype": "text/x-python",
   "name": "python",
   "nbconvert_exporter": "python",
   "pygments_lexer": "ipython3",
   "version": "3.11.7"
  }
 },
 "nbformat": 4,
 "nbformat_minor": 5
}
